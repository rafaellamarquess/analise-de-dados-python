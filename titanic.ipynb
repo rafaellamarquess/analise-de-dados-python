{
  "nbformat": 4,
  "nbformat_minor": 0,
  "metadata": {
    "colab": {
      "provenance": []
    },
    "kernelspec": {
      "name": "python3",
      "display_name": "Python 3"
    },
    "language_info": {
      "name": "python"
    }
  },
  "cells": [
    {
      "cell_type": "code",
      "execution_count": null,
      "metadata": {
        "id": "l6ny7xLMiXSi"
      },
      "outputs": [],
      "source": [
        "#Rafaella\n",
        "import pandas as pd\n",
        "import matplotlib.pyplot as plt\n",
        "\n",
        "df = pd.read_csv(\"/content/train.csv\")\n",
        "\n",
        "# Filtrar apenas as mulheres\n",
        "women_ages = df[(df[\"Sex\"] == \"female\") & (df[\"Survived\"] == 1)][\"Age\"].dropna()\n",
        "\n",
        "# Calcular a mediana\n",
        "median_age = women_ages.median()\n",
        "\n",
        "# Criar o gráfico\n",
        "plt.figure(figsize=(8, 5))\n",
        "plt.hist(women_ages, bins=20, edgecolor='black', alpha=0.7)\n",
        "plt.axvline(median_age, color='red', linestyle='dashed', linewidth=2, label=f'Mediana: {median_age:.1f} anos')\n",
        "plt.xlabel(\"Idade\")\n",
        "plt.ylabel(\"Sobreviventes\")\n",
        "plt.title(\"Distribuição da Idade das Mulheres no Titanic que sobreviveram\")\n",
        "plt.legend()\n",
        "plt.grid(axis='y', linestyle='--', alpha=0.7)\n",
        "\n",
        "plt.show()"
      ]
    }
  ]
}